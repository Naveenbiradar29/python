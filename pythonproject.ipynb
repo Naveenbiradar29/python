{
 "cells": [
  {
   "cell_type": "code",
   "execution_count": null,
   "id": "f1464e81",
   "metadata": {},
   "outputs": [
    {
     "name": "stdout",
     "output_type": "stream",
     "text": [
      "===== Welcome to Countdown Timer =====\n",
      "Do you want to set a countdown (y/n): y\n",
      "Enter amount of seconds: 5\n",
      "Countdown starts now...\n",
      "0\n",
      "Countdown ended...\n",
      "\n"
     ]
    }
   ],
   "source": [
    "#countdown timer program\n",
    "import time   #imports th time module which is dealing with time related functions\n",
    "\n",
    "def set_countdown():     #defining the countdown function\n",
    "    seconds = int(input(\"Enter amount of seconds: \"))\n",
    "    print('Countdown starts now...')\n",
    "    temp = seconds   #the variable is assigned the the initial value of seconds the variable is used to track the countdown progress\n",
    "    while temp != 0:  #the while loop will runs untill temp becomes zero\n",
    "        if temp != seconds: #this line ensure that when updating the countdown value the previous value is cleared from the console\n",
    "            print('\\b'*len(str(temp)), end='')\n",
    "        time.sleep(1) #the program pauses for one second using the time.sleep()\n",
    "        temp -= 1   #the count down progress by decrementing temp by one\n",
    "        print(temp, end='')   #the updated countdown is printed on the same value\n",
    "    print(\"\\nCountdown ended...\\n\")\n",
    "\n",
    "print(\"===== Welcome to Countdown Timer =====\")\n",
    "while 1:\n",
    "    choice = input(\"Do you want to set a countdown (y/n): \")\n",
    "    if 'y' in choice.lower():\n",
    "        set_countdown()\n",
    "    elif 'n' in choice.lower():\n",
    "        print('Exiting...')\n",
    "        break\n",
    "    else:\n",
    "        print('Invalid input...please try again')"
   ]
  },
  {
   "cell_type": "code",
   "execution_count": null,
   "id": "3b5abd67",
   "metadata": {},
   "outputs": [
    {
     "name": "stdout",
     "output_type": "stream",
     "text": [
      "===== Welcome to Dice Rolling Simulator =====\n",
      "Do you wanna roll a dice (y/n)y\n",
      "Rolling dice...\n",
      "Dice has the number: 5\n",
      "Do you wanna roll a dice (y/n)y\n",
      "Rolling dice...\n",
      "Dice has the number: 3\n",
      "Do you wanna roll a dice (y/n)y\n",
      "Rolling dice...\n",
      "Dice has the number: 6\n",
      "Do you wanna roll a dice (y/n)y\n",
      "Rolling dice...\n",
      "Dice has the number: 6\n",
      "Do you wanna roll a dice (y/n)y\n",
      "Rolling dice...\n",
      "Dice has the number: 1\n",
      "Do you wanna roll a dice (y/n)y\n",
      "Rolling dice...\n",
      "Dice has the number: 3\n",
      "Do you wanna roll a dice (y/n)y\n",
      "Rolling dice...\n",
      "Dice has the number: 6\n",
      "Do you wanna roll a dice (y/n)y\n",
      "Rolling dice...\n",
      "Dice has the number: 2\n",
      "Do you wanna roll a dice (y/n)y\n",
      "Rolling dice...\n",
      "Dice has the number: 6\n"
     ]
    }
   ],
   "source": [
    "#dice rolling simulator\n",
    "import random   #import the random module which is used to generate the random numbers\n",
    "\n",
    "def roll_dice():   #defining the function\n",
    "    dice_number = random.randint(1, 6)   #this function generates the random integer between 1 and 6simulating the six sided die\n",
    "    return dice_number                   #the result is then returned\n",
    "\n",
    "print(\"===== Welcome to Dice Rolling Simulator =====\")\n",
    "while True:   #infinite loop will starts to repetedly to prompt the user for input\n",
    "    choice = input(\"Do you wanna roll a dice (y/n)\")\n",
    "    if 'y' in choice.lower():\n",
    "        print(\"Rolling dice...\")\n",
    "        number = roll_dice()\n",
    "        print(\"Dice has the number:\", number)\n",
    "    elif 'n' in choice.lower():\n",
    "        print('Exiting...')\n",
    "        break\n",
    "    else:\n",
    "        print(\"Invalid input...please try again\")"
   ]
  },
  {
   "cell_type": "code",
   "execution_count": null,
   "id": "32faea66",
   "metadata": {},
   "outputs": [],
   "source": []
  }
 ],
 "metadata": {
  "kernelspec": {
   "display_name": "Python 3 (ipykernel)",
   "language": "python",
   "name": "python3"
  },
  "language_info": {
   "codemirror_mode": {
    "name": "ipython",
    "version": 3
   },
   "file_extension": ".py",
   "mimetype": "text/x-python",
   "name": "python",
   "nbconvert_exporter": "python",
   "pygments_lexer": "ipython3",
   "version": "3.11.5"
  }
 },
 "nbformat": 4,
 "nbformat_minor": 5
}
